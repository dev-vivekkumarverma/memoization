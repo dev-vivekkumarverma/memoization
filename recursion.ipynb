{
 "cells": [
  {
   "cell_type": "code",
   "execution_count": 63,
   "metadata": {},
   "outputs": [],
   "source": [
    "import time\n",
    "def timeProfiler(func):\n",
    "    def inner_wrapper(*args, **kwargs):\n",
    "        start_time=time.time()\n",
    "        res=func(*args,*kwargs)\n",
    "        end_time=time.time()\n",
    "        totat_time=end_time-start_time\n",
    "        return res, totat_time\n",
    "    return inner_wrapper"
   ]
  },
  {
   "cell_type": "code",
   "execution_count": 64,
   "metadata": {},
   "outputs": [],
   "source": [
    "\n",
    "memo={}\n",
    "@timeProfiler\n",
    "def find_feb(n):\n",
    "    def feb(n):\n",
    "        # if n in memo:\n",
    "        #     retur\n",
    "        if n==1:\n",
    "            return 0\n",
    "        elif n==2:\n",
    "            return 1\n",
    "        else:\n",
    "            return feb(n-1)+ feb(n-2)\n",
    "        \n",
    "    return feb(n)\n",
    "        \n",
    "\n"
   ]
  },
  {
   "cell_type": "code",
   "execution_count": 65,
   "metadata": {},
   "outputs": [
    {
     "data": {
      "text/plain": [
       "(2584, 0.0012907981872558594)"
      ]
     },
     "execution_count": 65,
     "metadata": {},
     "output_type": "execute_result"
    }
   ],
   "source": [
    "find_feb(19)"
   ]
  },
  {
   "cell_type": "code",
   "execution_count": 66,
   "metadata": {},
   "outputs": [],
   "source": [
    "\n",
    "\n",
    "@timeProfiler\n",
    "def find_feb_with_memo(n):\n",
    "    memo={}\n",
    "    def feb_memoised(n):\n",
    "\n",
    "        if n in memo:\n",
    "            return memo[n]\n",
    "        if n==1:\n",
    "            return 0\n",
    "        elif n==2:\n",
    "            return 1\n",
    "        else:\n",
    "            res= feb_memoised(n-1)+ feb_memoised(n-2)\n",
    "        \n",
    "            memo[n]=res\n",
    "            return res\n",
    "    return feb_memoised(n)"
   ]
  },
  {
   "cell_type": "code",
   "execution_count": 67,
   "metadata": {},
   "outputs": [
    {
     "name": "stdout",
     "output_type": "stream",
     "text": [
      "max 39 : in time = 10.738044261932373 s : result = feb(39)=39088169\n"
     ]
    }
   ],
   "source": [
    "time_given=10\n",
    "res=0\n",
    "i=1\n",
    "time_taken=0\n",
    "while True:\n",
    "    res,time_taken=find_feb(i)\n",
    "    if time_taken>time_given:\n",
    "        break\n",
    "    i+=1\n",
    "\n",
    "print(f\"max {i} : in time = {time_taken} s : result = feb({i})={res}\")"
   ]
  },
  {
   "cell_type": "code",
   "execution_count": 68,
   "metadata": {},
   "outputs": [
    {
     "name": "stdout",
     "output_type": "stream",
     "text": [
      "memoization::\n",
      "max 709 : in time = 0.010524272918701172 s : result = feb(709)=4109266378488062431228061757602275200488546350691404731331209059476699865525985814512330794573159713192993537023560937664480427471312780415869653296\n"
     ]
    }
   ],
   "source": [
    "time_given=0.01\n",
    "res=0\n",
    "i=1\n",
    "time_taken=0\n",
    "while True:\n",
    "    res,time_taken=find_feb_with_memo(i)\n",
    "    if time_taken>time_given:\n",
    "        break\n",
    "    i+=1\n",
    "print(\"memoization::\")\n",
    "\n",
    "print(f\"max {i} : in time = {time_taken} s : result = feb({i})={res}\")"
   ]
  },
  {
   "cell_type": "markdown",
   "metadata": {},
   "source": [
    "memoization::\n",
    "max 709 : in time = 0.010524272918701172 s : result = feb(709)=4109266378488062431228061757602275200488546350691404731331209059476699865525985814512330794573159713192993537023560937664480427471312780415869653296\n"
   ]
  },
  {
   "cell_type": "markdown",
   "metadata": {},
   "source": []
  }
 ],
 "metadata": {
  "kernelspec": {
   "display_name": "Python 3",
   "language": "python",
   "name": "python3"
  },
  "language_info": {
   "codemirror_mode": {
    "name": "ipython",
    "version": 3
   },
   "file_extension": ".py",
   "mimetype": "text/x-python",
   "name": "python",
   "nbconvert_exporter": "python",
   "pygments_lexer": "ipython3",
   "version": "3.12.0"
  }
 },
 "nbformat": 4,
 "nbformat_minor": 2
}
